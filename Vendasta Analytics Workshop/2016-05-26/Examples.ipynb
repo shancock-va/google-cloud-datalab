{
 "cells": [
  {
   "cell_type": "markdown",
   "metadata": {},
   "source": [
    "# Examples"
   ]
  },
  {
   "cell_type": "markdown",
   "metadata": {},
   "source": [
    "## Salespeople"
   ]
  },
  {
   "cell_type": "markdown",
   "metadata": {},
   "source": [
    "### Select All Salespeople"
   ]
  },
  {
   "cell_type": "code",
   "execution_count": 1,
   "metadata": {
    "collapsed": false
   },
   "outputs": [
    {
     "data": {
      "text/html": [
       "\n",
       "    <div class=\"bqtv\" id=\"1_146423254509\"><table><tr><th>email</th><th>first_name</th><th>last_name</th><th>pid</th></tr><tr><td>lorna@lolanewmedia.co.uk</td><td>Lorna</td><td>Langdon</td><td>TTT</td></tr><tr><td>mr.tonylynch@gmail.com</td><td>Tony</td><td>Lynch</td><td>TTT</td></tr><tr><td>airesmobilesolutions@gmail.com</td><td>William</td><td>Woo</td><td>TTT</td></tr><tr><td>nigel+canceled@turnaround.cc</td><td>Nigel</td><td>Aslett</td><td>TTT</td></tr><tr><td>raymondw@localreviewsonline.com</td><td>Raymond</td><td>Widjaja</td><td>TTT</td></tr><tr><td>info@kogsdma.com</td><td>Joseph</td><td>Ponnou</td><td>GOMO</td></tr><tr><td>skaran@email.com</td><td>Shyam</td><td>Karan</td><td>GOMO</td></tr><tr><td>metrics@mighty-tiny-media.co.uk</td><td>Mark</td><td>Miller</td><td>GOMO</td></tr><tr><td>info@qbdynamics.com</td><td>George</td><td>Ogunsiji</td><td>GOMO</td></tr><tr><td>darrell.mott@cloud360marketing.com</td><td>Darrell</td><td>Mott</td><td>GOMO</td></tr><tr><td>ddacosta@globaldirectories.com</td><td>Dave</td><td>Dacosta</td><td>GLOB</td></tr><tr><td>lhipkins@globaldirectories.com</td><td>Leigh</td><td>Hipkins</td><td>GLOB</td></tr><tr><td>rwinters@globaldirectories.com</td><td>Robin</td><td>Winters</td><td>GLOB</td></tr><tr><td>ekeens@globaldirectories.com</td><td>Eileen</td><td>Keens</td><td>GLOB</td></tr><tr><td>snehme@globaldirectories.com</td><td>Sebastien</td><td>Nehme</td><td>GLOB</td></tr><tr><td>omyles@globaldirectories.com</td><td>Otis</td><td>Myles</td><td>GLOB</td></tr><tr><td>tharewood@globaldirectories.com</td><td>Terry</td><td>Harewood</td><td>GLOB</td></tr><tr><td>socialmediasworkz@gmail.com</td><td>delilah</td><td>bell</td><td>TTT</td></tr><tr><td>dkasksug111@gmail.com</td><td>Amanda</td><td>Crawford</td><td>TTT</td></tr><tr><td>ken+sales@dylbo.com</td><td>Ken</td><td>Johnstone</td><td>TTT</td></tr><tr><td>apirch@gmail.com</td><td>Adam</td><td>Pirch</td><td>TTT</td></tr><tr><td>rod+sales@acgph.com</td><td>Rod</td><td>Ngilangil</td><td>TTT</td></tr><tr><td>mobileman712+suspended@gmail.com</td><td>Michael</td><td>Nunns</td><td>TTT</td></tr><tr><td>gio@artisted.com</td><td>Giorgio</td><td>Venturini</td><td>TTT</td></tr><tr><td>support+trinzett@gomobilesolutions.com</td><td>Ruki</td><td>Watene</td><td>GOMO</td></tr></table></div>\n",
       "    <br />(rows: 10648, time: 1.2s,   501KB processed, job: job_hSkQ85zkaKhw-M9ue3Ajs6IHiTs)<br />\n",
       "    <script>\n",
       "      require(['extensions/charting', 'element!1_146423254509', 'style!/static/extensions/charting.css'],\n",
       "        function(charts, dom) {\n",
       "          charts.render(dom,\n",
       "            {\n",
       "              chartStyle:\"paged_table\",\n",
       "              dataName:\"0\",\n",
       "              fields:\"email,first_name,last_name,pid\",\n",
       "              totalRows:10648,\n",
       "              rowsPerPage:25,\n",
       "            }, {}, {\"rows\": [{\"c\": [{\"v\": \"lorna@lolanewmedia.co.uk\"}, {\"v\": \"Lorna\"}, {\"v\": \"Langdon\"}, {\"v\": \"TTT\"}]}, {\"c\": [{\"v\": \"mr.tonylynch@gmail.com\"}, {\"v\": \"Tony\"}, {\"v\": \"Lynch\"}, {\"v\": \"TTT\"}]}, {\"c\": [{\"v\": \"airesmobilesolutions@gmail.com\"}, {\"v\": \"William\"}, {\"v\": \"Woo\"}, {\"v\": \"TTT\"}]}, {\"c\": [{\"v\": \"nigel+canceled@turnaround.cc\"}, {\"v\": \"Nigel\"}, {\"v\": \"Aslett\"}, {\"v\": \"TTT\"}]}, {\"c\": [{\"v\": \"raymondw@localreviewsonline.com\"}, {\"v\": \"Raymond\"}, {\"v\": \"Widjaja\"}, {\"v\": \"TTT\"}]}, {\"c\": [{\"v\": \"info@kogsdma.com\"}, {\"v\": \"Joseph\"}, {\"v\": \"Ponnou\"}, {\"v\": \"GOMO\"}]}, {\"c\": [{\"v\": \"skaran@email.com\"}, {\"v\": \"Shyam\"}, {\"v\": \"Karan\"}, {\"v\": \"GOMO\"}]}, {\"c\": [{\"v\": \"metrics@mighty-tiny-media.co.uk\"}, {\"v\": \"Mark\"}, {\"v\": \"Miller\"}, {\"v\": \"GOMO\"}]}, {\"c\": [{\"v\": \"info@qbdynamics.com\"}, {\"v\": \"George\"}, {\"v\": \"Ogunsiji\"}, {\"v\": \"GOMO\"}]}, {\"c\": [{\"v\": \"darrell.mott@cloud360marketing.com\"}, {\"v\": \"Darrell\"}, {\"v\": \"Mott\"}, {\"v\": \"GOMO\"}]}, {\"c\": [{\"v\": \"ddacosta@globaldirectories.com\"}, {\"v\": \"Dave\"}, {\"v\": \"Dacosta\"}, {\"v\": \"GLOB\"}]}, {\"c\": [{\"v\": \"lhipkins@globaldirectories.com\"}, {\"v\": \"Leigh\"}, {\"v\": \"Hipkins\"}, {\"v\": \"GLOB\"}]}, {\"c\": [{\"v\": \"rwinters@globaldirectories.com\"}, {\"v\": \"Robin\"}, {\"v\": \"Winters\"}, {\"v\": \"GLOB\"}]}, {\"c\": [{\"v\": \"ekeens@globaldirectories.com\"}, {\"v\": \"Eileen\"}, {\"v\": \"Keens\"}, {\"v\": \"GLOB\"}]}, {\"c\": [{\"v\": \"snehme@globaldirectories.com\"}, {\"v\": \"Sebastien\"}, {\"v\": \"Nehme\"}, {\"v\": \"GLOB\"}]}, {\"c\": [{\"v\": \"omyles@globaldirectories.com\"}, {\"v\": \"Otis\"}, {\"v\": \"Myles\"}, {\"v\": \"GLOB\"}]}, {\"c\": [{\"v\": \"tharewood@globaldirectories.com\"}, {\"v\": \"Terry\"}, {\"v\": \"Harewood\"}, {\"v\": \"GLOB\"}]}, {\"c\": [{\"v\": \"socialmediasworkz@gmail.com\"}, {\"v\": \"delilah\"}, {\"v\": \"bell\"}, {\"v\": \"TTT\"}]}, {\"c\": [{\"v\": \"dkasksug111@gmail.com\"}, {\"v\": \"Amanda\"}, {\"v\": \"Crawford\"}, {\"v\": \"TTT\"}]}, {\"c\": [{\"v\": \"ken+sales@dylbo.com\"}, {\"v\": \"Ken\"}, {\"v\": \"Johnstone\"}, {\"v\": \"TTT\"}]}, {\"c\": [{\"v\": \"apirch@gmail.com\"}, {\"v\": \"Adam\"}, {\"v\": \"Pirch\"}, {\"v\": \"TTT\"}]}, {\"c\": [{\"v\": \"rod+sales@acgph.com\"}, {\"v\": \"Rod\"}, {\"v\": \"Ngilangil\"}, {\"v\": \"TTT\"}]}, {\"c\": [{\"v\": \"mobileman712+suspended@gmail.com\"}, {\"v\": \"Michael\"}, {\"v\": \"Nunns\"}, {\"v\": \"TTT\"}]}, {\"c\": [{\"v\": \"gio@artisted.com\"}, {\"v\": \"Giorgio\"}, {\"v\": \"Venturini\"}, {\"v\": \"TTT\"}]}, {\"c\": [{\"v\": \"support+trinzett@gomobilesolutions.com\"}, {\"v\": \"Ruki\"}, {\"v\": \"Watene\"}, {\"v\": \"GOMO\"}]}], \"cols\": [{\"type\": \"string\", \"id\": \"email\", \"label\": \"email\"}, {\"type\": \"string\", \"id\": \"first_name\", \"label\": \"first_name\"}, {\"type\": \"string\", \"id\": \"last_name\", \"label\": \"last_name\"}, {\"type\": \"string\", \"id\": \"pid\", \"label\": \"pid\"}]});\n",
       "        }\n",
       "      );\n",
       "    </script>\n",
       "  "
      ],
      "text/plain": [
       "QueryResultsTable job_hSkQ85zkaKhw-M9ue3Ajs6IHiTs"
      ]
     },
     "execution_count": 1,
     "metadata": {},
     "output_type": "execute_result"
    }
   ],
   "source": [
    "%%sql\n",
    "SELECT email, first_name, last_name, pid\n",
    "FROM [salestool-prod:datastore.SalesPerson]\n"
   ]
  },
  {
   "cell_type": "markdown",
   "metadata": {},
   "source": [
    "### WHERE pid = 'VMF'"
   ]
  },
  {
   "cell_type": "code",
   "execution_count": 2,
   "metadata": {
    "collapsed": false
   },
   "outputs": [
    {
     "data": {
      "text/html": [
       "\n",
       "    <div class=\"bqtv\" id=\"2_146423258992\"><table><tr><th>email</th><th>first_name</th><th>last_name</th><th>pid</th></tr><tr><td>afitzgerald@vendasta.com</td><td>Adrian</td><td>Fitzgerald</td><td>VMF</td></tr><tr><td>spapadopoulos@vendasta.com</td><td>Simon</td><td>Papadopoulos</td><td>VMF</td></tr><tr><td>nlabar@vendasta.com</td><td>Naresh</td><td>LaBar</td><td>VMF</td></tr><tr><td>gleith@vendasta.com</td><td>George</td><td>Leith</td><td>VMF</td></tr><tr><td>sputnam@vendasta.com</td><td>Shannon</td><td>Putnam</td><td>VMF</td></tr><tr><td>tbolin+vmf@vendasta.com</td><td>Taylor</td><td>Bolin (Inbound)</td><td>VMF</td></tr><tr><td>jpayzant@vendasta.com</td><td>Julia</td><td>Payzant</td><td>VMF</td></tr><tr><td>jtomlin+vmfsales@vendasta.com</td><td>Jeff</td><td>Tomlin</td><td>VMF</td></tr><tr><td>rseaward1@vendasta.com</td><td>Richie</td><td>Rich</td><td>VMF</td></tr><tr><td>mpatola+chamber@vendasta.com</td><td>Mike</td><td>Patola</td><td>VMF</td></tr><tr><td>ctaylor+vmf@vendasta.com</td><td>Craig</td><td>Taylor (BDR)</td><td>VMF</td></tr><tr><td>mkindrachuk@vendasta.com</td><td>Myron</td><td>Kindrachuk</td><td>VMF</td></tr><tr><td>rafaelpavlovic@vendasta.com</td><td>Raf</td><td>Pavlovic</td><td>VMF</td></tr><tr><td>mtastad@vendasta.com</td><td>Michael</td><td>Tastad</td><td>VMF</td></tr><tr><td>sabeywickrama@vendasta.com</td><td>Shakya</td><td>Abeywickrama</td><td>VMF</td></tr><tr><td>BAnton@Vendasta.com</td><td>Blair</td><td>Anton</td><td>VMF</td></tr><tr><td>jyeomans@vendasta.com</td><td>Janessa</td><td>Yeomans</td><td>VMF</td></tr><tr><td>lwillms@vendasta.com</td><td>Lorie</td><td>Willms</td><td>VMF</td></tr><tr><td>emcfaull@vendasta.com</td><td>Erin</td><td>McFaull</td><td>VMF</td></tr><tr><td>mfolnovic@vendasta.com</td><td>Meghan</td><td>Folnovic</td><td>VMF</td></tr><tr><td>tseto@vendasta.com</td><td>Thomas</td><td>Seto</td><td>VMF</td></tr><tr><td>ckwiatkowski@vendasta.com</td><td>Cheryl Anne</td><td>Kwiatkowski</td><td>VMF</td></tr><tr><td>rholaday@vendasta.com</td><td>Ryan</td><td>Holaday</td><td>VMF</td></tr><tr><td>cstark+brands@vendasta.com</td><td>Cam</td><td>Stark</td><td>VMF</td></tr><tr><td>ctaylor@vendasta.com</td><td>Craig</td><td>Taylor</td><td>VMF</td></tr></table></div>\n",
       "    <br />(rows: 56, time: 1.0s,   501KB processed, job: job_bd1sstuvLh0IiQwW7PKZz7ElOLI)<br />\n",
       "    <script>\n",
       "      require(['extensions/charting', 'element!2_146423258992', 'style!/static/extensions/charting.css'],\n",
       "        function(charts, dom) {\n",
       "          charts.render(dom,\n",
       "            {\n",
       "              chartStyle:\"paged_table\",\n",
       "              dataName:\"1\",\n",
       "              fields:\"email,first_name,last_name,pid\",\n",
       "              totalRows:56,\n",
       "              rowsPerPage:25,\n",
       "            }, {}, {\"rows\": [{\"c\": [{\"v\": \"afitzgerald@vendasta.com\"}, {\"v\": \"Adrian\"}, {\"v\": \"Fitzgerald\"}, {\"v\": \"VMF\"}]}, {\"c\": [{\"v\": \"spapadopoulos@vendasta.com\"}, {\"v\": \"Simon\"}, {\"v\": \"Papadopoulos\"}, {\"v\": \"VMF\"}]}, {\"c\": [{\"v\": \"nlabar@vendasta.com\"}, {\"v\": \"Naresh\"}, {\"v\": \"LaBar\"}, {\"v\": \"VMF\"}]}, {\"c\": [{\"v\": \"gleith@vendasta.com\"}, {\"v\": \"George\"}, {\"v\": \"Leith\"}, {\"v\": \"VMF\"}]}, {\"c\": [{\"v\": \"sputnam@vendasta.com\"}, {\"v\": \"Shannon\"}, {\"v\": \"Putnam\"}, {\"v\": \"VMF\"}]}, {\"c\": [{\"v\": \"tbolin+vmf@vendasta.com\"}, {\"v\": \"Taylor\"}, {\"v\": \"Bolin (Inbound)\"}, {\"v\": \"VMF\"}]}, {\"c\": [{\"v\": \"jpayzant@vendasta.com\"}, {\"v\": \"Julia\"}, {\"v\": \"Payzant\"}, {\"v\": \"VMF\"}]}, {\"c\": [{\"v\": \"jtomlin+vmfsales@vendasta.com\"}, {\"v\": \"Jeff\"}, {\"v\": \"Tomlin\"}, {\"v\": \"VMF\"}]}, {\"c\": [{\"v\": \"rseaward1@vendasta.com\"}, {\"v\": \"Richie\"}, {\"v\": \"Rich\"}, {\"v\": \"VMF\"}]}, {\"c\": [{\"v\": \"mpatola+chamber@vendasta.com\"}, {\"v\": \"Mike\"}, {\"v\": \"Patola\"}, {\"v\": \"VMF\"}]}, {\"c\": [{\"v\": \"ctaylor+vmf@vendasta.com\"}, {\"v\": \"Craig\"}, {\"v\": \"Taylor (BDR)\"}, {\"v\": \"VMF\"}]}, {\"c\": [{\"v\": \"mkindrachuk@vendasta.com\"}, {\"v\": \"Myron\"}, {\"v\": \"Kindrachuk\"}, {\"v\": \"VMF\"}]}, {\"c\": [{\"v\": \"rafaelpavlovic@vendasta.com\"}, {\"v\": \"Raf\"}, {\"v\": \"Pavlovic\"}, {\"v\": \"VMF\"}]}, {\"c\": [{\"v\": \"mtastad@vendasta.com\"}, {\"v\": \"Michael\"}, {\"v\": \"Tastad\"}, {\"v\": \"VMF\"}]}, {\"c\": [{\"v\": \"sabeywickrama@vendasta.com\"}, {\"v\": \"Shakya\"}, {\"v\": \"Abeywickrama\"}, {\"v\": \"VMF\"}]}, {\"c\": [{\"v\": \"BAnton@Vendasta.com\"}, {\"v\": \"Blair\"}, {\"v\": \"Anton\"}, {\"v\": \"VMF\"}]}, {\"c\": [{\"v\": \"jyeomans@vendasta.com\"}, {\"v\": \"Janessa\"}, {\"v\": \"Yeomans\"}, {\"v\": \"VMF\"}]}, {\"c\": [{\"v\": \"lwillms@vendasta.com\"}, {\"v\": \"Lorie\"}, {\"v\": \"Willms\"}, {\"v\": \"VMF\"}]}, {\"c\": [{\"v\": \"emcfaull@vendasta.com\"}, {\"v\": \"Erin\"}, {\"v\": \"McFaull\"}, {\"v\": \"VMF\"}]}, {\"c\": [{\"v\": \"mfolnovic@vendasta.com\"}, {\"v\": \"Meghan\"}, {\"v\": \"Folnovic\"}, {\"v\": \"VMF\"}]}, {\"c\": [{\"v\": \"tseto@vendasta.com\"}, {\"v\": \"Thomas\"}, {\"v\": \"Seto\"}, {\"v\": \"VMF\"}]}, {\"c\": [{\"v\": \"ckwiatkowski@vendasta.com\"}, {\"v\": \"Cheryl Anne\"}, {\"v\": \"Kwiatkowski\"}, {\"v\": \"VMF\"}]}, {\"c\": [{\"v\": \"rholaday@vendasta.com\"}, {\"v\": \"Ryan\"}, {\"v\": \"Holaday\"}, {\"v\": \"VMF\"}]}, {\"c\": [{\"v\": \"cstark+brands@vendasta.com\"}, {\"v\": \"Cam\"}, {\"v\": \"Stark\"}, {\"v\": \"VMF\"}]}, {\"c\": [{\"v\": \"ctaylor@vendasta.com\"}, {\"v\": \"Craig\"}, {\"v\": \"Taylor\"}, {\"v\": \"VMF\"}]}], \"cols\": [{\"type\": \"string\", \"id\": \"email\", \"label\": \"email\"}, {\"type\": \"string\", \"id\": \"first_name\", \"label\": \"first_name\"}, {\"type\": \"string\", \"id\": \"last_name\", \"label\": \"last_name\"}, {\"type\": \"string\", \"id\": \"pid\", \"label\": \"pid\"}]});\n",
       "        }\n",
       "      );\n",
       "    </script>\n",
       "  "
      ],
      "text/plain": [
       "QueryResultsTable job_bd1sstuvLh0IiQwW7PKZz7ElOLI"
      ]
     },
     "execution_count": 2,
     "metadata": {},
     "output_type": "execute_result"
    }
   ],
   "source": [
    "%%sql\n",
    "SELECT email, first_name, last_name, pid\n",
    "FROM [salestool-prod:datastore.SalesPerson]\n",
    "WHERE pid = 'VMF'"
   ]
  },
  {
   "cell_type": "markdown",
   "metadata": {},
   "source": [
    "### ORDER BY last_name"
   ]
  },
  {
   "cell_type": "code",
   "execution_count": 4,
   "metadata": {
    "collapsed": false
   },
   "outputs": [
    {
     "data": {
      "text/html": [
       "\n",
       "    <div class=\"bqtv\" id=\"4_146423277152\"><table><tr><th>email</th><th>first_name</th><th>last_name</th><th>pid</th></tr><tr><td>sabe@vendasta.com</td><td>Seyi</td><td>Abe</td><td>VMF</td></tr><tr><td>sabe+vmf@vendasta.com</td><td>Seyi</td><td>Abe (inbound)</td><td>VMF</td></tr><tr><td>sabeywickrama@vendasta.com</td><td>Shakya</td><td>Abeywickrama</td><td>VMF</td></tr><tr><td>BAnton@Vendasta.com</td><td>Blair</td><td>Anton</td><td>VMF</td></tr><tr><td>jbabiy@vendasta.com</td><td>Justin</td><td>Babiy</td><td>VMF</td></tr><tr><td>tbolin@vendasta.com</td><td>Taylor</td><td>Bolin</td><td>VMF</td></tr><tr><td>tbolin+vmf@vendasta.com</td><td>Taylor</td><td>Bolin (Inbound)</td><td>VMF</td></tr><tr><td>mbrennan@vendasta.com</td><td>Michael</td><td>Brennan</td><td>VMF</td></tr><tr><td>mbrown+vmf@vendasta.com</td><td>Mandi</td><td>Brown</td><td>VMF</td></tr><tr><td>jcook+vmf@vendasta.com</td><td>Jacqueline</td><td>Cook</td><td>VMF</td></tr><tr><td>jdavis@vendasta.com</td><td>Jeff</td><td>Davis</td><td>VMF</td></tr><tr><td>rdelaet@vendasta.com</td><td>Ryan</td><td>DeLaet</td><td>VMF</td></tr><tr><td>afitzgerald@vendasta.com</td><td>Adrian</td><td>Fitzgerald</td><td>VMF</td></tr><tr><td>mfolnovic@vendasta.com</td><td>Meghan</td><td>Folnovic</td><td>VMF</td></tr><tr><td>mgroden@vendasta.com</td><td>Michelle</td><td>Groden</td><td>VMF</td></tr><tr><td>rholaday@vendasta.com</td><td>Ryan</td><td>Holaday</td><td>VMF</td></tr><tr><td>rhomkar+testing@vendasta.com</td><td>Richa</td><td>Homkar</td><td>VMF</td></tr><tr><td>mkindrachuk@vendasta.com</td><td>Myron</td><td>Kindrachuk</td><td>VMF</td></tr><tr><td>ckwiatkowski@vendasta.com</td><td>Cheryl Anne</td><td>Kwiatkowski</td><td>VMF</td></tr><tr><td>nlabar@vendasta.com</td><td>Naresh</td><td>LaBar</td><td>VMF</td></tr><tr><td>tlawrence@vendasta.com</td><td>Tim</td><td>Lawrence</td><td>VMF</td></tr><tr><td>tlawrence+vmf@vendasta.com</td><td>Tim</td><td>Lawrence (Inbound)</td><td>VMF</td></tr><tr><td>gleith@vendasta.com</td><td>George</td><td>Leith</td><td>VMF</td></tr><tr><td>emcfaull@vendasta.com</td><td>Erin</td><td>McFaull</td><td>VMF</td></tr><tr><td>lmctavish@vendasta.com</td><td>Landon</td><td>McTavish</td><td>VMF</td></tr></table></div>\n",
       "    <br />(rows: 56, time: 1.4s,   501KB processed, job: job_rYqlGKXTj39wdbOtxOpzBaIMdTs)<br />\n",
       "    <script>\n",
       "      require(['extensions/charting', 'element!4_146423277152', 'style!/static/extensions/charting.css'],\n",
       "        function(charts, dom) {\n",
       "          charts.render(dom,\n",
       "            {\n",
       "              chartStyle:\"paged_table\",\n",
       "              dataName:\"3\",\n",
       "              fields:\"email,first_name,last_name,pid\",\n",
       "              totalRows:56,\n",
       "              rowsPerPage:25,\n",
       "            }, {}, {\"rows\": [{\"c\": [{\"v\": \"sabe@vendasta.com\"}, {\"v\": \"Seyi\"}, {\"v\": \"Abe\"}, {\"v\": \"VMF\"}]}, {\"c\": [{\"v\": \"sabe+vmf@vendasta.com\"}, {\"v\": \"Seyi\"}, {\"v\": \"Abe (inbound)\"}, {\"v\": \"VMF\"}]}, {\"c\": [{\"v\": \"sabeywickrama@vendasta.com\"}, {\"v\": \"Shakya\"}, {\"v\": \"Abeywickrama\"}, {\"v\": \"VMF\"}]}, {\"c\": [{\"v\": \"BAnton@Vendasta.com\"}, {\"v\": \"Blair\"}, {\"v\": \"Anton\"}, {\"v\": \"VMF\"}]}, {\"c\": [{\"v\": \"jbabiy@vendasta.com\"}, {\"v\": \"Justin\"}, {\"v\": \"Babiy\"}, {\"v\": \"VMF\"}]}, {\"c\": [{\"v\": \"tbolin@vendasta.com\"}, {\"v\": \"Taylor\"}, {\"v\": \"Bolin\"}, {\"v\": \"VMF\"}]}, {\"c\": [{\"v\": \"tbolin+vmf@vendasta.com\"}, {\"v\": \"Taylor\"}, {\"v\": \"Bolin (Inbound)\"}, {\"v\": \"VMF\"}]}, {\"c\": [{\"v\": \"mbrennan@vendasta.com\"}, {\"v\": \"Michael\"}, {\"v\": \"Brennan\"}, {\"v\": \"VMF\"}]}, {\"c\": [{\"v\": \"mbrown+vmf@vendasta.com\"}, {\"v\": \"Mandi\"}, {\"v\": \"Brown\"}, {\"v\": \"VMF\"}]}, {\"c\": [{\"v\": \"jcook+vmf@vendasta.com\"}, {\"v\": \"Jacqueline\"}, {\"v\": \"Cook\"}, {\"v\": \"VMF\"}]}, {\"c\": [{\"v\": \"jdavis@vendasta.com\"}, {\"v\": \"Jeff\"}, {\"v\": \"Davis\"}, {\"v\": \"VMF\"}]}, {\"c\": [{\"v\": \"rdelaet@vendasta.com\"}, {\"v\": \"Ryan\"}, {\"v\": \"DeLaet\"}, {\"v\": \"VMF\"}]}, {\"c\": [{\"v\": \"afitzgerald@vendasta.com\"}, {\"v\": \"Adrian\"}, {\"v\": \"Fitzgerald\"}, {\"v\": \"VMF\"}]}, {\"c\": [{\"v\": \"mfolnovic@vendasta.com\"}, {\"v\": \"Meghan\"}, {\"v\": \"Folnovic\"}, {\"v\": \"VMF\"}]}, {\"c\": [{\"v\": \"mgroden@vendasta.com\"}, {\"v\": \"Michelle\"}, {\"v\": \"Groden\"}, {\"v\": \"VMF\"}]}, {\"c\": [{\"v\": \"rholaday@vendasta.com\"}, {\"v\": \"Ryan\"}, {\"v\": \"Holaday\"}, {\"v\": \"VMF\"}]}, {\"c\": [{\"v\": \"rhomkar+testing@vendasta.com\"}, {\"v\": \"Richa\"}, {\"v\": \"Homkar\"}, {\"v\": \"VMF\"}]}, {\"c\": [{\"v\": \"mkindrachuk@vendasta.com\"}, {\"v\": \"Myron\"}, {\"v\": \"Kindrachuk\"}, {\"v\": \"VMF\"}]}, {\"c\": [{\"v\": \"ckwiatkowski@vendasta.com\"}, {\"v\": \"Cheryl Anne\"}, {\"v\": \"Kwiatkowski\"}, {\"v\": \"VMF\"}]}, {\"c\": [{\"v\": \"nlabar@vendasta.com\"}, {\"v\": \"Naresh\"}, {\"v\": \"LaBar\"}, {\"v\": \"VMF\"}]}, {\"c\": [{\"v\": \"tlawrence@vendasta.com\"}, {\"v\": \"Tim\"}, {\"v\": \"Lawrence\"}, {\"v\": \"VMF\"}]}, {\"c\": [{\"v\": \"tlawrence+vmf@vendasta.com\"}, {\"v\": \"Tim\"}, {\"v\": \"Lawrence (Inbound)\"}, {\"v\": \"VMF\"}]}, {\"c\": [{\"v\": \"gleith@vendasta.com\"}, {\"v\": \"George\"}, {\"v\": \"Leith\"}, {\"v\": \"VMF\"}]}, {\"c\": [{\"v\": \"emcfaull@vendasta.com\"}, {\"v\": \"Erin\"}, {\"v\": \"McFaull\"}, {\"v\": \"VMF\"}]}, {\"c\": [{\"v\": \"lmctavish@vendasta.com\"}, {\"v\": \"Landon\"}, {\"v\": \"McTavish\"}, {\"v\": \"VMF\"}]}], \"cols\": [{\"type\": \"string\", \"id\": \"email\", \"label\": \"email\"}, {\"type\": \"string\", \"id\": \"first_name\", \"label\": \"first_name\"}, {\"type\": \"string\", \"id\": \"last_name\", \"label\": \"last_name\"}, {\"type\": \"string\", \"id\": \"pid\", \"label\": \"pid\"}]});\n",
       "        }\n",
       "      );\n",
       "    </script>\n",
       "  "
      ],
      "text/plain": [
       "QueryResultsTable job_rYqlGKXTj39wdbOtxOpzBaIMdTs"
      ]
     },
     "execution_count": 4,
     "metadata": {},
     "output_type": "execute_result"
    }
   ],
   "source": [
    "%%sql\n",
    "SELECT email, first_name, last_name, pid\n",
    "FROM [salestool-prod:datastore.SalesPerson]\n",
    "WHERE pid = 'VMF'\n",
    "ORDER BY last_name ASC"
   ]
  },
  {
   "cell_type": "markdown",
   "metadata": {},
   "source": [
    "### JOINS"
   ]
  },
  {
   "cell_type": "code",
   "execution_count": 8,
   "metadata": {
    "collapsed": false
   },
   "outputs": [
    {
     "data": {
      "text/html": [
       "\n",
       "    <div class=\"bqtv\" id=\"6_146423309989\"><table><tr><th>email</th><th>first_name</th><th>last_name</th><th>pid</th><th>last_login_datetime</th></tr><tr><td>gleith@vendasta.com</td><td>George</td><td>Leith</td><td>VMF</td><td>2016-05-25 01:00:23.483380</td></tr><tr><td>sputnam@vendasta.com</td><td>Shannon</td><td>Putnam</td><td>VMF</td><td>2016-05-24 23:53:47.796190</td></tr><tr><td>rdelaet@vendasta.com</td><td>Ryan</td><td>DeLaet</td><td>VMF</td><td>2016-05-24 23:51:22.626280</td></tr><tr><td>tlawrence@vendasta.com</td><td>Tim</td><td>Lawrence</td><td>VMF</td><td>2016-05-24 23:28:23.143240</td></tr><tr><td>lwillms@vendasta.com</td><td>Lorie</td><td>Willms</td><td>VMF</td><td>2016-05-24 22:55:19.660830</td></tr><tr><td>tseto@vendasta.com</td><td>Thomas</td><td>Seto</td><td>VMF</td><td>2016-05-24 22:54:25.622150</td></tr><tr><td>gtebbutt@vendasta.com</td><td>Gillian</td><td>Tebbutt</td><td>VMF</td><td>2016-05-24 22:40:23.385470</td></tr><tr><td>jcook+vmf@vendasta.com</td><td>Jacqueline</td><td>Cook</td><td>VMF</td><td>2016-05-24 22:33:23.853000</td></tr><tr><td>tlawrence+vmf@vendasta.com</td><td>Tim</td><td>Lawrence (Inbound)</td><td>VMF</td><td>2016-05-24 22:20:16.756780</td></tr><tr><td>lmctavish@vendasta.com</td><td>Landon</td><td>McTavish</td><td>VMF</td><td>2016-05-24 21:53:10.365350</td></tr><tr><td>troberts@vendasta.com</td><td>Todd</td><td>Roberts</td><td>VMF</td><td>2016-05-24 21:52:17.077830</td></tr><tr><td>rseaward1@vendasta.com</td><td>Richie</td><td>Rich</td><td>VMF</td><td>2016-05-24 21:49:10.770470</td></tr><tr><td>cstark+vmf@vendasta.com</td><td>Cameron</td><td>Stark (inbound)</td><td>VMF</td><td>2016-05-24 21:29:55.169610</td></tr><tr><td>cstark+brands@vendasta.com</td><td>Cam</td><td>Stark</td><td>VMF</td><td>2016-05-24 21:25:06.644030</td></tr><tr><td>jyeomans@vendasta.com</td><td>Janessa</td><td>Yeomans</td><td>VMF</td><td>2016-05-24 21:19:05.268070</td></tr><tr><td>mpatola+vmf@vendasta.com</td><td>Michael</td><td>Patola (inbound)</td><td>VMF</td><td>2016-05-24 21:12:02.406630</td></tr><tr><td>mpatola@vendasta.com</td><td>Michael</td><td>Patola</td><td>VMF</td><td>2016-05-24 20:26:17.325800</td></tr><tr><td>sabe@vendasta.com</td><td>Seyi</td><td>Abe</td><td>VMF</td><td>2016-05-24 20:23:54.261370</td></tr><tr><td>ckwiatkowski@vendasta.com</td><td>Cheryl Anne</td><td>Kwiatkowski</td><td>VMF</td><td>2016-05-24 19:24:03.863690</td></tr><tr><td>rholaday@vendasta.com</td><td>Ryan</td><td>Holaday</td><td>VMF</td><td>2016-05-24 19:17:44.216040</td></tr><tr><td>jbabiy@vendasta.com</td><td>Justin</td><td>Babiy</td><td>VMF</td><td>2016-05-24 18:37:57.855550</td></tr><tr><td>cunsworth@vendasta.com</td><td>Chris</td><td>Unsworth</td><td>VMF</td><td>2016-05-24 17:46:41.031540</td></tr><tr><td>nlabar@vendasta.com</td><td>Naresh</td><td>LaBar</td><td>VMF</td><td>2016-05-24 17:32:53.423370</td></tr><tr><td>ctaylor+vmf@vendasta.com</td><td>Craig</td><td>Taylor (BDR)</td><td>VMF</td><td>2016-05-24 16:51:51.297150</td></tr><tr><td>rafaelpavlovic@vendasta.com</td><td>Raf</td><td>Pavlovic</td><td>VMF</td><td>2016-05-24 16:35:39.631150</td></tr></table></div>\n",
       "    <br />(rows: 53, time: 1.0s,   817KB processed, job: job_cPpb2ttjgtxwmcspwlaPadRquJw)<br />\n",
       "    <script>\n",
       "      require(['extensions/charting', 'element!6_146423309989', 'style!/static/extensions/charting.css'],\n",
       "        function(charts, dom) {\n",
       "          charts.render(dom,\n",
       "            {\n",
       "              chartStyle:\"paged_table\",\n",
       "              dataName:\"5\",\n",
       "              fields:\"email,first_name,last_name,pid,last_login_datetime\",\n",
       "              totalRows:53,\n",
       "              rowsPerPage:25,\n",
       "            }, {}, {\"rows\": [{\"c\": [{\"v\": \"gleith@vendasta.com\"}, {\"v\": \"George\"}, {\"v\": \"Leith\"}, {\"v\": \"VMF\"}, {\"v\": \"2016-05-25T01:00:23.483380\"}]}, {\"c\": [{\"v\": \"sputnam@vendasta.com\"}, {\"v\": \"Shannon\"}, {\"v\": \"Putnam\"}, {\"v\": \"VMF\"}, {\"v\": \"2016-05-24T23:53:47.796190\"}]}, {\"c\": [{\"v\": \"rdelaet@vendasta.com\"}, {\"v\": \"Ryan\"}, {\"v\": \"DeLaet\"}, {\"v\": \"VMF\"}, {\"v\": \"2016-05-24T23:51:22.626280\"}]}, {\"c\": [{\"v\": \"tlawrence@vendasta.com\"}, {\"v\": \"Tim\"}, {\"v\": \"Lawrence\"}, {\"v\": \"VMF\"}, {\"v\": \"2016-05-24T23:28:23.143240\"}]}, {\"c\": [{\"v\": \"lwillms@vendasta.com\"}, {\"v\": \"Lorie\"}, {\"v\": \"Willms\"}, {\"v\": \"VMF\"}, {\"v\": \"2016-05-24T22:55:19.660830\"}]}, {\"c\": [{\"v\": \"tseto@vendasta.com\"}, {\"v\": \"Thomas\"}, {\"v\": \"Seto\"}, {\"v\": \"VMF\"}, {\"v\": \"2016-05-24T22:54:25.622150\"}]}, {\"c\": [{\"v\": \"gtebbutt@vendasta.com\"}, {\"v\": \"Gillian\"}, {\"v\": \"Tebbutt\"}, {\"v\": \"VMF\"}, {\"v\": \"2016-05-24T22:40:23.385470\"}]}, {\"c\": [{\"v\": \"jcook+vmf@vendasta.com\"}, {\"v\": \"Jacqueline\"}, {\"v\": \"Cook\"}, {\"v\": \"VMF\"}, {\"v\": \"2016-05-24T22:33:23.853000\"}]}, {\"c\": [{\"v\": \"tlawrence+vmf@vendasta.com\"}, {\"v\": \"Tim\"}, {\"v\": \"Lawrence (Inbound)\"}, {\"v\": \"VMF\"}, {\"v\": \"2016-05-24T22:20:16.756780\"}]}, {\"c\": [{\"v\": \"lmctavish@vendasta.com\"}, {\"v\": \"Landon\"}, {\"v\": \"McTavish\"}, {\"v\": \"VMF\"}, {\"v\": \"2016-05-24T21:53:10.365350\"}]}, {\"c\": [{\"v\": \"troberts@vendasta.com\"}, {\"v\": \"Todd\"}, {\"v\": \"Roberts\"}, {\"v\": \"VMF\"}, {\"v\": \"2016-05-24T21:52:17.077830\"}]}, {\"c\": [{\"v\": \"rseaward1@vendasta.com\"}, {\"v\": \"Richie\"}, {\"v\": \"Rich\"}, {\"v\": \"VMF\"}, {\"v\": \"2016-05-24T21:49:10.770470\"}]}, {\"c\": [{\"v\": \"cstark+vmf@vendasta.com\"}, {\"v\": \"Cameron\"}, {\"v\": \"Stark (inbound)\"}, {\"v\": \"VMF\"}, {\"v\": \"2016-05-24T21:29:55.169610\"}]}, {\"c\": [{\"v\": \"cstark+brands@vendasta.com\"}, {\"v\": \"Cam\"}, {\"v\": \"Stark\"}, {\"v\": \"VMF\"}, {\"v\": \"2016-05-24T21:25:06.644030\"}]}, {\"c\": [{\"v\": \"jyeomans@vendasta.com\"}, {\"v\": \"Janessa\"}, {\"v\": \"Yeomans\"}, {\"v\": \"VMF\"}, {\"v\": \"2016-05-24T21:19:05.268070\"}]}, {\"c\": [{\"v\": \"mpatola+vmf@vendasta.com\"}, {\"v\": \"Michael\"}, {\"v\": \"Patola (inbound)\"}, {\"v\": \"VMF\"}, {\"v\": \"2016-05-24T21:12:02.406630\"}]}, {\"c\": [{\"v\": \"mpatola@vendasta.com\"}, {\"v\": \"Michael\"}, {\"v\": \"Patola\"}, {\"v\": \"VMF\"}, {\"v\": \"2016-05-24T20:26:17.325800\"}]}, {\"c\": [{\"v\": \"sabe@vendasta.com\"}, {\"v\": \"Seyi\"}, {\"v\": \"Abe\"}, {\"v\": \"VMF\"}, {\"v\": \"2016-05-24T20:23:54.261370\"}]}, {\"c\": [{\"v\": \"ckwiatkowski@vendasta.com\"}, {\"v\": \"Cheryl Anne\"}, {\"v\": \"Kwiatkowski\"}, {\"v\": \"VMF\"}, {\"v\": \"2016-05-24T19:24:03.863690\"}]}, {\"c\": [{\"v\": \"rholaday@vendasta.com\"}, {\"v\": \"Ryan\"}, {\"v\": \"Holaday\"}, {\"v\": \"VMF\"}, {\"v\": \"2016-05-24T19:17:44.216040\"}]}, {\"c\": [{\"v\": \"jbabiy@vendasta.com\"}, {\"v\": \"Justin\"}, {\"v\": \"Babiy\"}, {\"v\": \"VMF\"}, {\"v\": \"2016-05-24T18:37:57.855550\"}]}, {\"c\": [{\"v\": \"cunsworth@vendasta.com\"}, {\"v\": \"Chris\"}, {\"v\": \"Unsworth\"}, {\"v\": \"VMF\"}, {\"v\": \"2016-05-24T17:46:41.031540\"}]}, {\"c\": [{\"v\": \"nlabar@vendasta.com\"}, {\"v\": \"Naresh\"}, {\"v\": \"LaBar\"}, {\"v\": \"VMF\"}, {\"v\": \"2016-05-24T17:32:53.423370\"}]}, {\"c\": [{\"v\": \"ctaylor+vmf@vendasta.com\"}, {\"v\": \"Craig\"}, {\"v\": \"Taylor (BDR)\"}, {\"v\": \"VMF\"}, {\"v\": \"2016-05-24T16:51:51.297150\"}]}, {\"c\": [{\"v\": \"rafaelpavlovic@vendasta.com\"}, {\"v\": \"Raf\"}, {\"v\": \"Pavlovic\"}, {\"v\": \"VMF\"}, {\"v\": \"2016-05-24T16:35:39.631150\"}]}], \"cols\": [{\"type\": \"string\", \"id\": \"email\", \"label\": \"email\"}, {\"type\": \"string\", \"id\": \"first_name\", \"label\": \"first_name\"}, {\"type\": \"string\", \"id\": \"last_name\", \"label\": \"last_name\"}, {\"type\": \"string\", \"id\": \"pid\", \"label\": \"pid\"}, {\"type\": \"datetime\", \"id\": \"last_login_datetime\", \"label\": \"last_login_datetime\"}]});\n",
       "        }\n",
       "      );\n",
       "    </script>\n",
       "  "
      ],
      "text/plain": [
       "QueryResultsTable job_cPpb2ttjgtxwmcspwlaPadRquJw"
      ]
     },
     "execution_count": 8,
     "metadata": {},
     "output_type": "execute_result"
    }
   ],
   "source": [
    "%%sql\n",
    "SELECT email, first_name, last_name, pid, last_login_datetime\n",
    "FROM [salestool-prod:datastore.SalesPerson] AS SalesPerson\n",
    "INNER JOIN [salestool-prod:datastore.SalesPersonLoginRecord] AS SalesPersonLoginRecord\n",
    "ON SalesPersonLoginRecord.sales_person_id = SalesPerson.sales_person_id\n",
    "WHERE pid = 'VMF'\n",
    "ORDER BY last_login_datetime DESC"
   ]
  },
  {
   "cell_type": "code",
   "execution_count": null,
   "metadata": {
    "collapsed": true
   },
   "outputs": [],
   "source": []
  }
 ],
 "metadata": {
  "kernelspec": {
   "display_name": "Python 2",
   "language": "python",
   "name": "python2"
  },
  "language_info": {
   "codemirror_mode": {
    "name": "ipython",
    "version": 2
   },
   "file_extension": ".py",
   "mimetype": "text/x-python",
   "name": "python",
   "nbconvert_exporter": "python",
   "pygments_lexer": "ipython2",
   "version": "2.7.9"
  }
 },
 "nbformat": 4,
 "nbformat_minor": 0
}
