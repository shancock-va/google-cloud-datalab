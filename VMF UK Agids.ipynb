{
 "cells": [
  {
   "cell_type": "markdown",
   "metadata": {},
   "source": [
    "# VMF Agids in the UK Market"
   ]
  },
  {
   "cell_type": "markdown",
   "metadata": {},
   "source": [
    "Original Prepared: 2016-05-19"
   ]
  },
  {
   "cell_type": "code",
   "execution_count": 2,
   "metadata": {
    "collapsed": false
   },
   "outputs": [
    {
     "name": "stderr",
     "output_type": "stream",
     "text": [
      "accessDenied: Access Denied: Table salestool-prod:datastore.Business: The user vbizops@appspot.gserviceaccount.com does not have permission to query a table in dataset salestool-prod:datastore\n"
     ]
    }
   ],
   "source": [
    "%%sql\n",
    "SELECT\n",
    "  name,\n",
    "  city,\n",
    "  state,\n",
    "  address,\n",
    "  zip_code,\n",
    "  country,\n",
    "  website,\n",
    "  contact_first_name,\n",
    "  contact_last_name,\n",
    "  contact_email,\n",
    "  GROUP_CONCAT(phone_numbers) as phone_numbers,\n",
    "FROM [salestool-prod:datastore.Business]\n",
    "WHERE pid = \"VMF\"\n",
    "  AND market_id = 'uk'\n",
    "GROUP BY\n",
    "  name,\n",
    "  city,\n",
    "  state,\n",
    "  address,\n",
    "  zip_code,\n",
    "  country,\n",
    "  website,\n",
    "  contact_first_name,\n",
    "  contact_last_name,\n",
    "  contact_email,"
   ]
  },
  {
   "cell_type": "code",
   "execution_count": null,
   "metadata": {
    "collapsed": true
   },
   "outputs": [],
   "source": []
  }
 ],
 "metadata": {
  "kernelspec": {
   "display_name": "Python 2",
   "language": "python",
   "name": "python2"
  },
  "language_info": {
   "codemirror_mode": {
    "name": "ipython",
    "version": 2
   },
   "file_extension": ".py",
   "mimetype": "text/x-python",
   "name": "python",
   "nbconvert_exporter": "python",
   "pygments_lexer": "ipython2",
   "version": "2.7.9"
  }
 },
 "nbformat": 4,
 "nbformat_minor": 0
}
