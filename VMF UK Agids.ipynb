{
 "cells": [
  {
   "cell_type": "markdown",
   "metadata": {},
   "source": [
    "# VMF Agids in the UK Market"
   ]
  },
  {
   "cell_type": "markdown",
   "metadata": {},
   "source": [
    "Original Prepared: 2016-05-19"
   ]
  },
  {
   "cell_type": "code",
   "execution_count": 4,
   "metadata": {
    "collapsed": false
   },
   "outputs": [
    {
     "data": {
      "text/html": [
       "\n",
       "    <div class=\"bqtv\" id=\"1_146376767845\"><table><tr><th>name</th><th>city</th><th>state</th><th>address</th><th>zip_code</th><th>country</th><th>website</th><th>contact_first_name</th><th>contact_last_name</th><th>contact_email</th><th>phone_numbers</th></tr><tr><td>Oxford Times</td><td>Osney Mead</td><td>OXF</td><td>Osney Mead Newspaper House</td><td>OX2 0EJ</td><td>GB</td><td>http://www.oxfordtimes.co.uk/</td><td>N/A</td><td>N/A</td><td>ptruman@nqo.com</td><td>1865425262</td></tr><tr><td>Edge Digital</td><td>Staten Island</td><td>GLS</td><td>Winchcombe St Winchcombe House</td><td>GL52 2NA</td><td>GB</td><td>http://www.edgedigital.co.uk/</td><td>Nick</td><td>N/A</td><td>nick@edgedigital.co.uk</td><td>7779849869</td></tr><tr><td>Western Gazette</td><td>Lufton</td><td>ABE</td><td>1 Copse Rd</td><td>BA22 8RN</td><td>GB</td><td>http://www.westerngazette.co.uk/</td><td>N/A</td><td>N/A</td><td>mel.crisp@localworld.co.uk</td><td>1935709700</td></tr><tr><td>Runcorn &amp; Widnes Weekly News</td><td>N/A</td><td>AL</td><td>N/A</td><td>L69 3EB</td><td>US</td><td>&nbsp;</td><td>N/A</td><td>N/A</td><td>susanlee@liverpoolecho.co.uk</td><td>9999999999</td></tr><tr><td>Digital Conversion Ltd</td><td>Goring-by-Sea</td><td>ABE</td><td>14 W Park Ln</td><td>BN12 4ER</td><td>GB</td><td>http://www.digital-conversion.co.uk/</td><td>Duncan</td><td>N/A</td><td>duncan@digital-conversion.co.uk</td><td>7796270864</td></tr><tr><td>Postscript5</td><td>Balnamore</td><td>ABE</td><td>6 Taughey Rd</td><td>BT53 6RA</td><td>GB</td><td>http://www.postscript5.co.uk/</td><td>Grace</td><td>N/A</td><td>grace@postscript5.co.uk</td><td>2827664410</td></tr><tr><td>Malton &amp; Pickering Mercury</td><td>N/A</td><td>AL</td><td>N/A</td><td>12345</td><td>US</td><td>&nbsp;</td><td>N/A</td><td>N/A</td><td>mandy.west@jpress.co.uk</td><td>9999999999</td></tr><tr><td>Rutland &amp; Stamford Mercury</td><td>Stamford</td><td>LIN</td><td>N/A</td><td>PE9 2EP</td><td>GB</td><td>http://www.stamfordmercury.co.uk/</td><td>N/A</td><td>N/A</td><td>smeditor@stamfordmercury.co.uk</td><td>1780758951</td></tr><tr><td>Simply Advertising</td><td>Canterbury</td><td>KEN</td><td>77 Headcorn Dr</td><td>CT2</td><td>GB</td><td>http://www.simplyadvertising.net/</td><td>mike</td><td>N/A</td><td>mike@simplyadvertising.net</td><td>1227786770</td></tr><tr><td>5tudiofive</td><td>N/A</td><td>AL</td><td>N/A</td><td>N/A</td><td>US</td><td>http://www.studiofive.org.uk/contact.html</td><td>Daniel</td><td>N/A</td><td>daniel@studiofive.org.uk</td><td>7912446951</td></tr><tr><td>Briffett Creative</td><td>Southclyde</td><td>SOS</td><td>155 Ambleside Dr</td><td>SS1 2UW</td><td>GB</td><td>http://www.briffettcreative.co.uk/</td><td>N/A</td><td>Briffett</td><td>abriffett@blueyonder.co.uk</td><td>7963072374</td></tr><tr><td>Get Reading</td><td>Theale</td><td>WBK</td><td>1650 Arlington Business Park Abbey House</td><td>RG7 4SA</td><td>GB</td><td>http://www.getreading.co.uk/</td><td>N/A</td><td>N/A</td><td>francesca.perryman@trinitymirror.com</td><td>1189298501</td></tr><tr><td>WDA Automotive Marketing</td><td>Cathedral Quarter</td><td>DER</td><td>20A Friar Gate</td><td>DE1 1BX</td><td>GB</td><td>http://www.wda-automotive.com/</td><td>ami</td><td>lou</td><td>ami-lou@wda-automotive.com</td><td>1332372728</td></tr><tr><td>The Black Eye Project</td><td>N/A</td><td>ABE</td><td>115 Rockingham St</td><td>S1 4EB</td><td>GB</td><td>http://www.theblackeyeproject.co.uk/</td><td>S</td><td>McClean</td><td>smcclean86@gmail.com</td><td>1142132002</td></tr><tr><td>Lesniak Swann</td><td>Festival Way</td><td>ABE</td><td>Ridgehouse Dr 3</td><td>ST1 5SJ</td><td>GB</td><td>http://www.lesniakswann.com/</td><td>Alex</td><td>N/A</td><td>alexs@lesniakswann.com</td><td>1782284503</td></tr><tr><td>Jar Creative UK</td><td>Crowborough</td><td>ESX</td><td>Luxford Rd</td><td>TN6</td><td>GB</td><td>http://www.jarcreativeuk.co.uk/</td><td>James</td><td>Rohan</td><td>jamesrohan@gmail.com</td><td>7812179156</td></tr><tr><td>Ash Hill Marketing</td><td>Doncaster</td><td>ABE</td><td>49 Bentley Rd</td><td>DN5 9SD</td><td>GB</td><td>http://www.ash-hill-marketing.co.uk/?bentleyrd</td><td>Ali</td><td>Hurworth</td><td>ali@ash-hill-marketing.co.uk</td><td>7400840295</td></tr><tr><td>Stovin Advertising</td><td>Woodlands</td><td>ABE</td><td>17 East Ave</td><td>DN6 7NJ</td><td>GB</td><td>http://www.stovin.co.uk/</td><td>Lee</td><td>Stovin</td><td>leestovin@gmail.com</td><td>7796617570</td></tr><tr><td>Prestwich &amp; Whitefield Guide</td><td>N/A</td><td>AL</td><td>N/A</td><td>BL1 1AR</td><td>US</td><td>&nbsp;</td><td>N/A</td><td>N/A</td><td>steven.thompson@nqnw.co.uk</td><td>9999999999</td></tr><tr><td>Berrow's Worcester Journal</td><td>N/A</td><td>AL</td><td>N/A</td><td>WR2 5JX</td><td>US</td><td>&nbsp;</td><td>N/A</td><td>N/A</td><td>roni.skye@midlands.newsquest.co.uk</td><td>9999999999</td></tr><tr><td>Wisbech Standard</td><td>London</td><td>ABE</td><td>93 High St Audmoor House</td><td>PE15 9LH</td><td>GB</td><td>http://www.wisbech-standard.co.uk/</td><td>N/A</td><td>N/A</td><td>ben.jolley@archant.co.uk</td><td>1354661915</td></tr><tr><td>Advertising Marketing Portsmouth P.M. Ltd</td><td>N/A</td><td>ABE</td><td>52 Hatfield Rd</td><td>PO4 9DJ</td><td>GB</td><td>http://www.pompeymarkets.com/</td><td>John</td><td>N/A</td><td>john@promo-design.co.uk</td><td>2392822891</td></tr><tr><td>Bilby Marketing</td><td>Exeter</td><td>ABE</td><td>3 Exwick Hill</td><td>EX4 2AQ</td><td>GB</td><td>http://www.bilbymarketing.co.uk/</td><td>Natalie</td><td>N/A</td><td>natalie@bilbymarketing.co.uk</td><td>1392221033</td></tr><tr><td>Spirit Design Works</td><td>Poole</td><td>DOR</td><td>2 Gordon Rd S</td><td>BH12 1EF</td><td>GB</td><td>http://www.spiritdesignworks.co.uk/</td><td>Shaun</td><td>N/A</td><td>shaun@spiritdesignworks.co.uk</td><td>1202757700</td></tr><tr><td>Schema Design &amp; Printing St Albans</td><td>St Albans</td><td>ABE</td><td>23 Brampton Rd</td><td>AL1 4</td><td>GB</td><td>http://www.schema-design.com/Print_and_Design_Cost_St_Albans.html</td><td>N/A</td><td>Willis</td><td>cwillis@schema-design.com</td><td>1727227073</td></tr></table></div>\n",
       "    <br />(rows: 442, time: 1.5s,    56MB processed, job: job_HHnbin54uo35zRm0afKplgoMyW8)<br />\n",
       "    <script>\n",
       "      require(['extensions/charting', 'element!1_146376767845', 'style!/static/extensions/charting.css'],\n",
       "        function(charts, dom) {\n",
       "          charts.render(dom,\n",
       "            {\n",
       "              chartStyle:\"paged_table\",\n",
       "              dataName:\"0\",\n",
       "              fields:\"name,city,state,address,zip_code,country,website,contact_first_name,contact_last_name,contact_email,phone_numbers\",\n",
       "              totalRows:442,\n",
       "              rowsPerPage:25,\n",
       "            }, {}, {\"rows\": [{\"c\": [{\"v\": \"Oxford Times\"}, {\"v\": \"Osney Mead\"}, {\"v\": \"OXF\"}, {\"v\": \"Osney Mead Newspaper House\"}, {\"v\": \"OX2 0EJ\"}, {\"v\": \"GB\"}, {\"v\": \"http://www.oxfordtimes.co.uk/\"}, {\"v\": \"N/A\"}, {\"v\": \"N/A\"}, {\"v\": \"ptruman@nqo.com\"}, {\"v\": \"1865425262\"}]}, {\"c\": [{\"v\": \"Edge Digital\"}, {\"v\": \"Staten Island\"}, {\"v\": \"GLS\"}, {\"v\": \"Winchcombe St Winchcombe House\"}, {\"v\": \"GL52 2NA\"}, {\"v\": \"GB\"}, {\"v\": \"http://www.edgedigital.co.uk/\"}, {\"v\": \"Nick\"}, {\"v\": \"N/A\"}, {\"v\": \"nick@edgedigital.co.uk\"}, {\"v\": \"7779849869\"}]}, {\"c\": [{\"v\": \"Western Gazette\"}, {\"v\": \"Lufton\"}, {\"v\": \"ABE\"}, {\"v\": \"1 Copse Rd\"}, {\"v\": \"BA22 8RN\"}, {\"v\": \"GB\"}, {\"v\": \"http://www.westerngazette.co.uk/\"}, {\"v\": \"N/A\"}, {\"v\": \"N/A\"}, {\"v\": \"mel.crisp@localworld.co.uk\"}, {\"v\": \"1935709700\"}]}, {\"c\": [{\"v\": \"Runcorn & Widnes Weekly News\"}, {\"v\": \"N/A\"}, {\"v\": \"AL\"}, {\"v\": \"N/A\"}, {\"v\": \"L69 3EB\"}, {\"v\": \"US\"}, {\"v\": null}, {\"v\": \"N/A\"}, {\"v\": \"N/A\"}, {\"v\": \"susanlee@liverpoolecho.co.uk\"}, {\"v\": \"9999999999\"}]}, {\"c\": [{\"v\": \"Digital Conversion Ltd\"}, {\"v\": \"Goring-by-Sea\"}, {\"v\": \"ABE\"}, {\"v\": \"14 W Park Ln\"}, {\"v\": \"BN12 4ER\"}, {\"v\": \"GB\"}, {\"v\": \"http://www.digital-conversion.co.uk/\"}, {\"v\": \"Duncan\"}, {\"v\": \"N/A\"}, {\"v\": \"duncan@digital-conversion.co.uk\"}, {\"v\": \"7796270864\"}]}, {\"c\": [{\"v\": \"Postscript5\"}, {\"v\": \"Balnamore\"}, {\"v\": \"ABE\"}, {\"v\": \"6 Taughey Rd\"}, {\"v\": \"BT53 6RA\"}, {\"v\": \"GB\"}, {\"v\": \"http://www.postscript5.co.uk/\"}, {\"v\": \"Grace\"}, {\"v\": \"N/A\"}, {\"v\": \"grace@postscript5.co.uk\"}, {\"v\": \"2827664410\"}]}, {\"c\": [{\"v\": \"Malton & Pickering Mercury\"}, {\"v\": \"N/A\"}, {\"v\": \"AL\"}, {\"v\": \"N/A\"}, {\"v\": \"12345\"}, {\"v\": \"US\"}, {\"v\": null}, {\"v\": \"N/A\"}, {\"v\": \"N/A\"}, {\"v\": \"mandy.west@jpress.co.uk\"}, {\"v\": \"9999999999\"}]}, {\"c\": [{\"v\": \"Rutland & Stamford Mercury\"}, {\"v\": \"Stamford\"}, {\"v\": \"LIN\"}, {\"v\": \"N/A\"}, {\"v\": \"PE9 2EP\"}, {\"v\": \"GB\"}, {\"v\": \"http://www.stamfordmercury.co.uk/\"}, {\"v\": \"N/A\"}, {\"v\": \"N/A\"}, {\"v\": \"smeditor@stamfordmercury.co.uk\"}, {\"v\": \"1780758951\"}]}, {\"c\": [{\"v\": \"Simply Advertising\"}, {\"v\": \"Canterbury\"}, {\"v\": \"KEN\"}, {\"v\": \"77 Headcorn Dr\"}, {\"v\": \"CT2\"}, {\"v\": \"GB\"}, {\"v\": \"http://www.simplyadvertising.net/\"}, {\"v\": \"mike\"}, {\"v\": \"N/A\"}, {\"v\": \"mike@simplyadvertising.net\"}, {\"v\": \"1227786770\"}]}, {\"c\": [{\"v\": \"5tudiofive\"}, {\"v\": \"N/A\"}, {\"v\": \"AL\"}, {\"v\": \"N/A\"}, {\"v\": \"N/A\"}, {\"v\": \"US\"}, {\"v\": \"http://www.studiofive.org.uk/contact.html\"}, {\"v\": \"Daniel\"}, {\"v\": \"N/A\"}, {\"v\": \"daniel@studiofive.org.uk\"}, {\"v\": \"7912446951\"}]}, {\"c\": [{\"v\": \"Briffett Creative\"}, {\"v\": \"Southclyde\"}, {\"v\": \"SOS\"}, {\"v\": \"155 Ambleside Dr\"}, {\"v\": \"SS1 2UW\"}, {\"v\": \"GB\"}, {\"v\": \"http://www.briffettcreative.co.uk/\"}, {\"v\": \"N/A\"}, {\"v\": \"Briffett\"}, {\"v\": \"abriffett@blueyonder.co.uk\"}, {\"v\": \"7963072374\"}]}, {\"c\": [{\"v\": \"Get Reading\"}, {\"v\": \"Theale\"}, {\"v\": \"WBK\"}, {\"v\": \"1650 Arlington Business Park Abbey House\"}, {\"v\": \"RG7 4SA\"}, {\"v\": \"GB\"}, {\"v\": \"http://www.getreading.co.uk/\"}, {\"v\": \"N/A\"}, {\"v\": \"N/A\"}, {\"v\": \"francesca.perryman@trinitymirror.com\"}, {\"v\": \"1189298501\"}]}, {\"c\": [{\"v\": \"WDA Automotive Marketing\"}, {\"v\": \"Cathedral Quarter\"}, {\"v\": \"DER\"}, {\"v\": \"20A Friar Gate\"}, {\"v\": \"DE1 1BX\"}, {\"v\": \"GB\"}, {\"v\": \"http://www.wda-automotive.com/\"}, {\"v\": \"ami\"}, {\"v\": \"lou\"}, {\"v\": \"ami-lou@wda-automotive.com\"}, {\"v\": \"1332372728\"}]}, {\"c\": [{\"v\": \"The Black Eye Project\"}, {\"v\": \"N/A\"}, {\"v\": \"ABE\"}, {\"v\": \"115 Rockingham St\"}, {\"v\": \"S1 4EB\"}, {\"v\": \"GB\"}, {\"v\": \"http://www.theblackeyeproject.co.uk/\"}, {\"v\": \"S\"}, {\"v\": \"McClean\"}, {\"v\": \"smcclean86@gmail.com\"}, {\"v\": \"1142132002\"}]}, {\"c\": [{\"v\": \"Lesniak Swann\"}, {\"v\": \"Festival Way\"}, {\"v\": \"ABE\"}, {\"v\": \"Ridgehouse Dr 3\"}, {\"v\": \"ST1 5SJ\"}, {\"v\": \"GB\"}, {\"v\": \"http://www.lesniakswann.com/\"}, {\"v\": \"Alex\"}, {\"v\": \"N/A\"}, {\"v\": \"alexs@lesniakswann.com\"}, {\"v\": \"1782284503\"}]}, {\"c\": [{\"v\": \"Jar Creative UK\"}, {\"v\": \"Crowborough\"}, {\"v\": \"ESX\"}, {\"v\": \"Luxford Rd\"}, {\"v\": \"TN6\"}, {\"v\": \"GB\"}, {\"v\": \"http://www.jarcreativeuk.co.uk/\"}, {\"v\": \"James\"}, {\"v\": \"Rohan\"}, {\"v\": \"jamesrohan@gmail.com\"}, {\"v\": \"7812179156\"}]}, {\"c\": [{\"v\": \"Ash Hill Marketing\"}, {\"v\": \"Doncaster\"}, {\"v\": \"ABE\"}, {\"v\": \"49 Bentley Rd\"}, {\"v\": \"DN5 9SD\"}, {\"v\": \"GB\"}, {\"v\": \"http://www.ash-hill-marketing.co.uk/?bentleyrd\"}, {\"v\": \"Ali\"}, {\"v\": \"Hurworth\"}, {\"v\": \"ali@ash-hill-marketing.co.uk\"}, {\"v\": \"7400840295\"}]}, {\"c\": [{\"v\": \"Stovin Advertising\"}, {\"v\": \"Woodlands\"}, {\"v\": \"ABE\"}, {\"v\": \"17 East Ave\"}, {\"v\": \"DN6 7NJ\"}, {\"v\": \"GB\"}, {\"v\": \"http://www.stovin.co.uk/\"}, {\"v\": \"Lee\"}, {\"v\": \"Stovin\"}, {\"v\": \"leestovin@gmail.com\"}, {\"v\": \"7796617570\"}]}, {\"c\": [{\"v\": \"Prestwich & Whitefield Guide\"}, {\"v\": \"N/A\"}, {\"v\": \"AL\"}, {\"v\": \"N/A\"}, {\"v\": \"BL1 1AR\"}, {\"v\": \"US\"}, {\"v\": null}, {\"v\": \"N/A\"}, {\"v\": \"N/A\"}, {\"v\": \"steven.thompson@nqnw.co.uk\"}, {\"v\": \"9999999999\"}]}, {\"c\": [{\"v\": \"Berrow's Worcester Journal\"}, {\"v\": \"N/A\"}, {\"v\": \"AL\"}, {\"v\": \"N/A\"}, {\"v\": \"WR2 5JX\"}, {\"v\": \"US\"}, {\"v\": null}, {\"v\": \"N/A\"}, {\"v\": \"N/A\"}, {\"v\": \"roni.skye@midlands.newsquest.co.uk\"}, {\"v\": \"9999999999\"}]}, {\"c\": [{\"v\": \"Wisbech Standard\"}, {\"v\": \"London\"}, {\"v\": \"ABE\"}, {\"v\": \"93 High St Audmoor House\"}, {\"v\": \"PE15 9LH\"}, {\"v\": \"GB\"}, {\"v\": \"http://www.wisbech-standard.co.uk/\"}, {\"v\": \"N/A\"}, {\"v\": \"N/A\"}, {\"v\": \"ben.jolley@archant.co.uk\"}, {\"v\": \"1354661915\"}]}, {\"c\": [{\"v\": \"Advertising Marketing Portsmouth P.M. Ltd\"}, {\"v\": \"N/A\"}, {\"v\": \"ABE\"}, {\"v\": \"52 Hatfield Rd\"}, {\"v\": \"PO4 9DJ\"}, {\"v\": \"GB\"}, {\"v\": \"http://www.pompeymarkets.com/\"}, {\"v\": \"John\"}, {\"v\": \"N/A\"}, {\"v\": \"john@promo-design.co.uk\"}, {\"v\": \"2392822891\"}]}, {\"c\": [{\"v\": \"Bilby Marketing\"}, {\"v\": \"Exeter\"}, {\"v\": \"ABE\"}, {\"v\": \"3 Exwick Hill\"}, {\"v\": \"EX4 2AQ\"}, {\"v\": \"GB\"}, {\"v\": \"http://www.bilbymarketing.co.uk/\"}, {\"v\": \"Natalie\"}, {\"v\": \"N/A\"}, {\"v\": \"natalie@bilbymarketing.co.uk\"}, {\"v\": \"1392221033\"}]}, {\"c\": [{\"v\": \"Spirit Design Works\"}, {\"v\": \"Poole\"}, {\"v\": \"DOR\"}, {\"v\": \"2 Gordon Rd S\"}, {\"v\": \"BH12 1EF\"}, {\"v\": \"GB\"}, {\"v\": \"http://www.spiritdesignworks.co.uk/\"}, {\"v\": \"Shaun\"}, {\"v\": \"N/A\"}, {\"v\": \"shaun@spiritdesignworks.co.uk\"}, {\"v\": \"1202757700\"}]}, {\"c\": [{\"v\": \"Schema Design & Printing St Albans\"}, {\"v\": \"St Albans\"}, {\"v\": \"ABE\"}, {\"v\": \"23 Brampton Rd\"}, {\"v\": \"AL1 4\"}, {\"v\": \"GB\"}, {\"v\": \"http://www.schema-design.com/Print_and_Design_Cost_St_Albans.html\"}, {\"v\": \"N/A\"}, {\"v\": \"Willis\"}, {\"v\": \"cwillis@schema-design.com\"}, {\"v\": \"1727227073\"}]}], \"cols\": [{\"type\": \"string\", \"id\": \"name\", \"label\": \"name\"}, {\"type\": \"string\", \"id\": \"city\", \"label\": \"city\"}, {\"type\": \"string\", \"id\": \"state\", \"label\": \"state\"}, {\"type\": \"string\", \"id\": \"address\", \"label\": \"address\"}, {\"type\": \"string\", \"id\": \"zip_code\", \"label\": \"zip_code\"}, {\"type\": \"string\", \"id\": \"country\", \"label\": \"country\"}, {\"type\": \"string\", \"id\": \"website\", \"label\": \"website\"}, {\"type\": \"string\", \"id\": \"contact_first_name\", \"label\": \"contact_first_name\"}, {\"type\": \"string\", \"id\": \"contact_last_name\", \"label\": \"contact_last_name\"}, {\"type\": \"string\", \"id\": \"contact_email\", \"label\": \"contact_email\"}, {\"type\": \"string\", \"id\": \"phone_numbers\", \"label\": \"phone_numbers\"}]});\n",
       "        }\n",
       "      );\n",
       "    </script>\n",
       "  "
      ],
      "text/plain": [
       "QueryResultsTable job_HHnbin54uo35zRm0afKplgoMyW8"
      ]
     },
     "execution_count": 4,
     "metadata": {},
     "output_type": "execute_result"
    }
   ],
   "source": [
    "%%sql\n",
    "SELECT\n",
    "  name,\n",
    "  city,\n",
    "  state,\n",
    "  address,\n",
    "  zip_code,\n",
    "  country,\n",
    "  website,\n",
    "  contact_first_name,\n",
    "  contact_last_name,\n",
    "  contact_email,\n",
    "  GROUP_CONCAT(phone_numbers) as phone_numbers,\n",
    "FROM [salestool-prod:datastore.Business]\n",
    "WHERE pid = \"VMF\"\n",
    "  AND market_id = 'uk'\n",
    "GROUP BY\n",
    "  name,\n",
    "  city,\n",
    "  state,\n",
    "  address,\n",
    "  zip_code,\n",
    "  country,\n",
    "  website,\n",
    "  contact_first_name,\n",
    "  contact_last_name,\n",
    "  contact_email,"
   ]
  },
  {
   "cell_type": "code",
   "execution_count": null,
   "metadata": {
    "collapsed": true
   },
   "outputs": [],
   "source": []
  }
 ],
 "metadata": {
  "kernelspec": {
   "display_name": "Python 2",
   "language": "python",
   "name": "python2"
  },
  "language_info": {
   "codemirror_mode": {
    "name": "ipython",
    "version": 2
   },
   "file_extension": ".py",
   "mimetype": "text/x-python",
   "name": "python",
   "nbconvert_exporter": "python",
   "pygments_lexer": "ipython2",
   "version": "2.7.9"
  }
 },
 "nbformat": 4,
 "nbformat_minor": 0
}
